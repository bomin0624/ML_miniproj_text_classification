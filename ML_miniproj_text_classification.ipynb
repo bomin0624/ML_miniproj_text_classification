{
  "cells": [
    {
      "cell_type": "markdown",
      "source": [
        "## 1. Prepare dataset (**Uneditable**)\n",
        "\n",
        "- Use gdown ([github-link](https://github.com/wkentaro/gdown)) to download large file data.\n",
        "- Description this dataset: \n",
        "  - This dataset is generated from GEO (a well-known semantic parsing dataset).The target of this dataset is the relation between the natural sentence and logic-term of its. \n",
        "  - It contains 5 columns ['label', '#1 ID', '#2 ID', 'sentence1', 'sentence2']. We only use 'sentence1',  'sentence2'  and 'label' as a input features and label of each training/testing sample, separately. \n",
        "  - Size of this dataset: 20400 training samples, 3400 dev samples, around 9500 private test samples.   \n",
        "- Note: **Undeditable** mean that edit this part code is not accepted. \n"
      ],
      "metadata": {
        "id": "Tg7yJEafX6iI"
      }
    },
    {
      "cell_type": "code",
      "source": [
        "!pip install gdown\n",
        "!gdown https://drive.google.com/uc?id=1tyfX0kv6qvA14JgmCkI4xU2zu0eaIIma -O data.zip\n",
        "!unzip ./data.zip"
      ],
      "metadata": {
        "colab": {
          "base_uri": "https://localhost:8080/"
        },
        "id": "oqtxOGyQ_WS1",
        "outputId": "435bb0c6-1f0a-45bf-fc6d-415d5ca5a2b9"
      },
      "execution_count": null,
      "outputs": [
        {
          "output_type": "stream",
          "name": "stdout",
          "text": [
            "Requirement already satisfied: gdown in /usr/local/lib/python3.7/dist-packages (3.6.4)\n",
            "Requirement already satisfied: tqdm in /usr/local/lib/python3.7/dist-packages (from gdown) (4.62.3)\n",
            "Requirement already satisfied: requests in /usr/local/lib/python3.7/dist-packages (from gdown) (2.23.0)\n",
            "Requirement already satisfied: six in /usr/local/lib/python3.7/dist-packages (from gdown) (1.15.0)\n",
            "Requirement already satisfied: idna<3,>=2.5 in /usr/local/lib/python3.7/dist-packages (from requests->gdown) (2.10)\n",
            "Requirement already satisfied: urllib3!=1.25.0,!=1.25.1,<1.26,>=1.21.1 in /usr/local/lib/python3.7/dist-packages (from requests->gdown) (1.24.3)\n",
            "Requirement already satisfied: certifi>=2017.4.17 in /usr/local/lib/python3.7/dist-packages (from requests->gdown) (2021.10.8)\n",
            "Requirement already satisfied: chardet<4,>=3.0.2 in /usr/local/lib/python3.7/dist-packages (from requests->gdown) (3.0.4)\n",
            "Downloading...\n",
            "From: https://drive.google.com/uc?id=1tyfX0kv6qvA14JgmCkI4xU2zu0eaIIma\n",
            "To: /content/data.zip\n",
            "100% 160k/160k [00:00<00:00, 57.5MB/s]\n",
            "Archive:  ./data.zip\n",
            "replace __MACOSX/._geo-data-ml-class? [y]es, [n]o, [A]ll, [N]one, [r]ename: "
          ]
        }
      ]
    },
    {
      "cell_type": "code",
      "execution_count": null,
      "metadata": {
        "id": "drSuUbrL_PgZ"
      },
      "outputs": [],
      "source": [
        "import pandas as pd\n",
        "import pickle\n",
        "from scipy.sparse import coo_matrix, hstack\n",
        "\n",
        "train = pd.read_csv('geo-data-ml-class/train.enfnamepair', sep=',')\n",
        "dev = pd.read_csv('geo-data-ml-class/dev.enfnamepair', sep=',')\n",
        "# test = pd.load('geo-data-ml-class/test.csv')"
      ]
    },
    {
      "cell_type": "code",
      "source": [
        "train.columns"
      ],
      "metadata": {
        "id": "sW32U3KDZj8c",
        "colab": {
          "base_uri": "https://localhost:8080/"
        },
        "outputId": "75a39b5e-8fb6-43b1-e21c-602ba068b577"
      },
      "execution_count": null,
      "outputs": [
        {
          "output_type": "execute_result",
          "data": {
            "text/plain": [
              "Index(['label', '#1 ID', '#2 ID', 'sentence1', 'sentence2'], dtype='object')"
            ]
          },
          "metadata": {},
          "execution_count": 104
        }
      ]
    },
    {
      "cell_type": "code",
      "execution_count": null,
      "metadata": {
        "id": "2klyjvv3_Pgb",
        "colab": {
          "base_uri": "https://localhost:8080/",
          "height": 424
        },
        "outputId": "7916fc35-5472-4cb4-afa1-4da182c4bbbe"
      },
      "outputs": [
        {
          "output_type": "execute_result",
          "data": {
            "text/html": [
              "\n",
              "  <div id=\"df-cea5e0c8-3d1f-41d0-8420-7533c3417496\">\n",
              "    <div class=\"colab-df-container\">\n",
              "      <div>\n",
              "<style scoped>\n",
              "    .dataframe tbody tr th:only-of-type {\n",
              "        vertical-align: middle;\n",
              "    }\n",
              "\n",
              "    .dataframe tbody tr th {\n",
              "        vertical-align: top;\n",
              "    }\n",
              "\n",
              "    .dataframe thead th {\n",
              "        text-align: right;\n",
              "    }\n",
              "</style>\n",
              "<table border=\"1\" class=\"dataframe\">\n",
              "  <thead>\n",
              "    <tr style=\"text-align: right;\">\n",
              "      <th></th>\n",
              "      <th>label</th>\n",
              "      <th>#1 ID</th>\n",
              "      <th>#2 ID</th>\n",
              "      <th>sentence1</th>\n",
              "      <th>sentence2</th>\n",
              "    </tr>\n",
              "  </thead>\n",
              "  <tbody>\n",
              "    <tr>\n",
              "      <th>0</th>\n",
              "      <td>0</td>\n",
              "      <td>and</td>\n",
              "      <td>0</td>\n",
              "      <td>and</td>\n",
              "      <td>where is c0</td>\n",
              "    </tr>\n",
              "    <tr>\n",
              "      <th>1</th>\n",
              "      <td>1</td>\n",
              "      <td>loc:t</td>\n",
              "      <td>0</td>\n",
              "      <td>loc : t</td>\n",
              "      <td>where is c0</td>\n",
              "    </tr>\n",
              "    <tr>\n",
              "      <th>2</th>\n",
              "      <td>0</td>\n",
              "      <td>state:t</td>\n",
              "      <td>0</td>\n",
              "      <td>state : t</td>\n",
              "      <td>where is c0</td>\n",
              "    </tr>\n",
              "    <tr>\n",
              "      <th>3</th>\n",
              "      <td>1</td>\n",
              "      <td>lambda</td>\n",
              "      <td>0</td>\n",
              "      <td>lambda</td>\n",
              "      <td>where is c0</td>\n",
              "    </tr>\n",
              "    <tr>\n",
              "      <th>4</th>\n",
              "      <td>0</td>\n",
              "      <td>argmax</td>\n",
              "      <td>0</td>\n",
              "      <td>argmax</td>\n",
              "      <td>where is c0</td>\n",
              "    </tr>\n",
              "    <tr>\n",
              "      <th>...</th>\n",
              "      <td>...</td>\n",
              "      <td>...</td>\n",
              "      <td>...</td>\n",
              "      <td>...</td>\n",
              "      <td>...</td>\n",
              "    </tr>\n",
              "    <tr>\n",
              "      <th>3095</th>\n",
              "      <td>1</td>\n",
              "      <td>loc:t</td>\n",
              "      <td>91</td>\n",
              "      <td>loc : t</td>\n",
              "      <td>what river flow through s0</td>\n",
              "    </tr>\n",
              "    <tr>\n",
              "      <th>3096</th>\n",
              "      <td>0</td>\n",
              "      <td>state:t</td>\n",
              "      <td>91</td>\n",
              "      <td>state : t</td>\n",
              "      <td>what river flow through s0</td>\n",
              "    </tr>\n",
              "    <tr>\n",
              "      <th>3097</th>\n",
              "      <td>1</td>\n",
              "      <td>lambda</td>\n",
              "      <td>91</td>\n",
              "      <td>lambda</td>\n",
              "      <td>what river flow through s0</td>\n",
              "    </tr>\n",
              "    <tr>\n",
              "      <th>3098</th>\n",
              "      <td>0</td>\n",
              "      <td>argmax</td>\n",
              "      <td>91</td>\n",
              "      <td>argmax</td>\n",
              "      <td>what river flow through s0</td>\n",
              "    </tr>\n",
              "    <tr>\n",
              "      <th>3099</th>\n",
              "      <td>1</td>\n",
              "      <td>river:t</td>\n",
              "      <td>91</td>\n",
              "      <td>river : t</td>\n",
              "      <td>what river flow through s0</td>\n",
              "    </tr>\n",
              "  </tbody>\n",
              "</table>\n",
              "<p>3100 rows × 5 columns</p>\n",
              "</div>\n",
              "      <button class=\"colab-df-convert\" onclick=\"convertToInteractive('df-cea5e0c8-3d1f-41d0-8420-7533c3417496')\"\n",
              "              title=\"Convert this dataframe to an interactive table.\"\n",
              "              style=\"display:none;\">\n",
              "        \n",
              "  <svg xmlns=\"http://www.w3.org/2000/svg\" height=\"24px\"viewBox=\"0 0 24 24\"\n",
              "       width=\"24px\">\n",
              "    <path d=\"M0 0h24v24H0V0z\" fill=\"none\"/>\n",
              "    <path d=\"M18.56 5.44l.94 2.06.94-2.06 2.06-.94-2.06-.94-.94-2.06-.94 2.06-2.06.94zm-11 1L8.5 8.5l.94-2.06 2.06-.94-2.06-.94L8.5 2.5l-.94 2.06-2.06.94zm10 10l.94 2.06.94-2.06 2.06-.94-2.06-.94-.94-2.06-.94 2.06-2.06.94z\"/><path d=\"M17.41 7.96l-1.37-1.37c-.4-.4-.92-.59-1.43-.59-.52 0-1.04.2-1.43.59L10.3 9.45l-7.72 7.72c-.78.78-.78 2.05 0 2.83L4 21.41c.39.39.9.59 1.41.59.51 0 1.02-.2 1.41-.59l7.78-7.78 2.81-2.81c.8-.78.8-2.07 0-2.86zM5.41 20L4 18.59l7.72-7.72 1.47 1.35L5.41 20z\"/>\n",
              "  </svg>\n",
              "      </button>\n",
              "      \n",
              "  <style>\n",
              "    .colab-df-container {\n",
              "      display:flex;\n",
              "      flex-wrap:wrap;\n",
              "      gap: 12px;\n",
              "    }\n",
              "\n",
              "    .colab-df-convert {\n",
              "      background-color: #E8F0FE;\n",
              "      border: none;\n",
              "      border-radius: 50%;\n",
              "      cursor: pointer;\n",
              "      display: none;\n",
              "      fill: #1967D2;\n",
              "      height: 32px;\n",
              "      padding: 0 0 0 0;\n",
              "      width: 32px;\n",
              "    }\n",
              "\n",
              "    .colab-df-convert:hover {\n",
              "      background-color: #E2EBFA;\n",
              "      box-shadow: 0px 1px 2px rgba(60, 64, 67, 0.3), 0px 1px 3px 1px rgba(60, 64, 67, 0.15);\n",
              "      fill: #174EA6;\n",
              "    }\n",
              "\n",
              "    [theme=dark] .colab-df-convert {\n",
              "      background-color: #3B4455;\n",
              "      fill: #D2E3FC;\n",
              "    }\n",
              "\n",
              "    [theme=dark] .colab-df-convert:hover {\n",
              "      background-color: #434B5C;\n",
              "      box-shadow: 0px 1px 3px 1px rgba(0, 0, 0, 0.15);\n",
              "      filter: drop-shadow(0px 1px 2px rgba(0, 0, 0, 0.3));\n",
              "      fill: #FFFFFF;\n",
              "    }\n",
              "  </style>\n",
              "\n",
              "      <script>\n",
              "        const buttonEl =\n",
              "          document.querySelector('#df-cea5e0c8-3d1f-41d0-8420-7533c3417496 button.colab-df-convert');\n",
              "        buttonEl.style.display =\n",
              "          google.colab.kernel.accessAllowed ? 'block' : 'none';\n",
              "\n",
              "        async function convertToInteractive(key) {\n",
              "          const element = document.querySelector('#df-cea5e0c8-3d1f-41d0-8420-7533c3417496');\n",
              "          const dataTable =\n",
              "            await google.colab.kernel.invokeFunction('convertToInteractive',\n",
              "                                                     [key], {});\n",
              "          if (!dataTable) return;\n",
              "\n",
              "          const docLinkHtml = 'Like what you see? Visit the ' +\n",
              "            '<a target=\"_blank\" href=https://colab.research.google.com/notebooks/data_table.ipynb>data table notebook</a>'\n",
              "            + ' to learn more about interactive tables.';\n",
              "          element.innerHTML = '';\n",
              "          dataTable['output_type'] = 'display_data';\n",
              "          await google.colab.output.renderOutput(dataTable, element);\n",
              "          const docLink = document.createElement('div');\n",
              "          docLink.innerHTML = docLinkHtml;\n",
              "          element.appendChild(docLink);\n",
              "        }\n",
              "      </script>\n",
              "    </div>\n",
              "  </div>\n",
              "  "
            ],
            "text/plain": [
              "      label    #1 ID  #2 ID  sentence1                   sentence2\n",
              "0         0      and      0        and                 where is c0\n",
              "1         1    loc:t      0    loc : t                 where is c0\n",
              "2         0  state:t      0  state : t                 where is c0\n",
              "3         1   lambda      0     lambda                 where is c0\n",
              "4         0   argmax      0     argmax                 where is c0\n",
              "...     ...      ...    ...        ...                         ...\n",
              "3095      1    loc:t     91    loc : t  what river flow through s0\n",
              "3096      0  state:t     91  state : t  what river flow through s0\n",
              "3097      1   lambda     91     lambda  what river flow through s0\n",
              "3098      0   argmax     91     argmax  what river flow through s0\n",
              "3099      1  river:t     91  river : t  what river flow through s0\n",
              "\n",
              "[3100 rows x 5 columns]"
            ]
          },
          "metadata": {},
          "execution_count": 105
        }
      ],
      "source": [
        "train.iloc[0:3100]"
      ]
    },
    {
      "cell_type": "markdown",
      "source": [
        "## 2. Preprocessing data (Editable)\n",
        "\n",
        "- Concat 2 columns \"sentence1\" and \"sentence2\" as a document. \n",
        "- Use Tfidf technique ([Tfidf document](https://scikit-learn.org/stable/modules/feature_extraction.html#tfidf-term-weighting)) to convert document into vector. We convert all training data, development data into vector."
      ],
      "metadata": {
        "id": "Rk4tQ3ZaW-P8"
      }
    },
    {
      "cell_type": "code",
      "execution_count": null,
      "metadata": {
        "id": "0z7N_tJP_Pgb",
        "colab": {
          "base_uri": "https://localhost:8080/"
        },
        "outputId": "bafff4a2-8e3f-48af-de3d-4558a75f67de"
      },
      "outputs": [
        {
          "output_type": "stream",
          "name": "stderr",
          "text": [
            "/usr/local/lib/python3.7/dist-packages/ipykernel_launcher.py:17: SettingWithCopyWarning: \n",
            "A value is trying to be set on a copy of a slice from a DataFrame\n",
            "\n",
            "See the caveats in the documentation: https://pandas.pydata.org/pandas-docs/stable/user_guide/indexing.html#returning-a-view-versus-a-copy\n",
            "/usr/local/lib/python3.7/dist-packages/ipykernel_launcher.py:18: SettingWithCopyWarning: \n",
            "A value is trying to be set on a copy of a slice from a DataFrame\n",
            "\n",
            "See the caveats in the documentation: https://pandas.pydata.org/pandas-docs/stable/user_guide/indexing.html#returning-a-view-versus-a-copy\n"
          ]
        }
      ],
      "source": [
        "## ++++++++++++++++++++++++++++++++++++++++++++++++++++++++++++++++++++++++++++++++++++++++++++++ ###\n",
        "## PUSH YOUR CODE HERE (OPTIONAL)                                                                 ###\n",
        "## *Note: bellow code flow is an example, you can delete all and write anything you want in here. ###\n",
        "## ++++++++++++++++++++++++++++++++++++++++++++++++++++++++++++++++++++++++++++++++++++++++++++++ ###   \n",
        "import re\n",
        "from sklearn.feature_extraction.text import TfidfVectorizer\n",
        "import gensim\n",
        "import pandas as pd\n",
        "\n",
        "# Data cleaning\n",
        "def func_name_norm(f_name):\n",
        "    f_name = f_name.strip().replace(\" : \",\":\").replace(\" _ \",\"_\").replace(\"0\",\" \")\n",
        "    f_name = f_name.strip().replace(\"is\",\" \").replace(\"the\",\" \").replace(\"are\",\" \")\n",
        "    return f_name\n",
        "\n",
        "for i in range(len(train)):\n",
        "    train['sentence1'][i] = func_name_norm(train['sentence1'][i])\n",
        "    train['sentence2'][i] = func_name_norm(train['sentence2'][i])\n",
        "\n",
        "# Label that is 0\n",
        "train_label_0=train.loc[train[\"label\"]==0]\n",
        "\n",
        "# Label that is 1\n",
        "train_label_1=train.loc[train[\"label\"]==1]\n",
        "\n",
        "\n",
        "# Sampling\n",
        "smp_label_0 = train_label_0.sample(n = 2600)\n",
        "new_train = pd.concat([smp_label_0,train_label_1])\n",
        "new_train = train_label_1.append(smp_label_0)\n",
        "\n",
        "train_text_concatination = new_train[['sentence1', 'sentence2']].agg(' '.join, axis=1)\n",
        "\n",
        "vectorizer = TfidfVectorizer().fit(train_text_concatination)\n",
        "\n",
        "def data_frame_to_vector2(df):\n",
        "    text_concatination = df[['sentence1', 'sentence2']].agg(' '.join, axis=1)\n",
        "    return vectorizer.transform(text_concatination)\n"
      ]
    },
    {
      "cell_type": "code",
      "execution_count": null,
      "metadata": {
        "id": "IyL83GFu_Pgc"
      },
      "outputs": [],
      "source": [
        "train_data_vector = data_frame_to_vector2(new_train)\n",
        "dev_data_vector = data_frame_to_vector2(dev)"
      ]
    },
    {
      "cell_type": "code",
      "source": [
        "new_train"
      ],
      "metadata": {
        "colab": {
          "base_uri": "https://localhost:8080/",
          "height": 424
        },
        "id": "rBkIUKEbMoD6",
        "outputId": "a81e3766-9aa3-4368-dd76-d72b8883941e"
      },
      "execution_count": null,
      "outputs": [
        {
          "output_type": "execute_result",
          "data": {
            "text/html": [
              "\n",
              "  <div id=\"df-26b82f3e-c72a-489b-8e13-3e34419dbda7\">\n",
              "    <div class=\"colab-df-container\">\n",
              "      <div>\n",
              "<style scoped>\n",
              "    .dataframe tbody tr th:only-of-type {\n",
              "        vertical-align: middle;\n",
              "    }\n",
              "\n",
              "    .dataframe tbody tr th {\n",
              "        vertical-align: top;\n",
              "    }\n",
              "\n",
              "    .dataframe thead th {\n",
              "        text-align: right;\n",
              "    }\n",
              "</style>\n",
              "<table border=\"1\" class=\"dataframe\">\n",
              "  <thead>\n",
              "    <tr style=\"text-align: right;\">\n",
              "      <th></th>\n",
              "      <th>label</th>\n",
              "      <th>#1 ID</th>\n",
              "      <th>#2 ID</th>\n",
              "      <th>sentence1</th>\n",
              "      <th>sentence2</th>\n",
              "    </tr>\n",
              "  </thead>\n",
              "  <tbody>\n",
              "    <tr>\n",
              "      <th>1</th>\n",
              "      <td>1</td>\n",
              "      <td>loc:t</td>\n",
              "      <td>0</td>\n",
              "      <td>loc:t</td>\n",
              "      <td>where   c</td>\n",
              "    </tr>\n",
              "    <tr>\n",
              "      <th>3</th>\n",
              "      <td>1</td>\n",
              "      <td>lambda</td>\n",
              "      <td>0</td>\n",
              "      <td>lambda</td>\n",
              "      <td>where   c</td>\n",
              "    </tr>\n",
              "    <tr>\n",
              "      <th>35</th>\n",
              "      <td>1</td>\n",
              "      <td>loc:t</td>\n",
              "      <td>1</td>\n",
              "      <td>loc:t</td>\n",
              "      <td>where   m</td>\n",
              "    </tr>\n",
              "    <tr>\n",
              "      <th>37</th>\n",
              "      <td>1</td>\n",
              "      <td>lambda</td>\n",
              "      <td>1</td>\n",
              "      <td>lambda</td>\n",
              "      <td>where   m</td>\n",
              "    </tr>\n",
              "    <tr>\n",
              "      <th>69</th>\n",
              "      <td>1</td>\n",
              "      <td>loc:t</td>\n",
              "      <td>2</td>\n",
              "      <td>loc:t</td>\n",
              "      <td>where   c</td>\n",
              "    </tr>\n",
              "    <tr>\n",
              "      <th>...</th>\n",
              "      <td>...</td>\n",
              "      <td>...</td>\n",
              "      <td>...</td>\n",
              "      <td>...</td>\n",
              "      <td>...</td>\n",
              "    </tr>\n",
              "    <tr>\n",
              "      <th>14811</th>\n",
              "      <td>0</td>\n",
              "      <td>the</td>\n",
              "      <td>435</td>\n",
              "      <td></td>\n",
              "      <td>how high     highest point in s</td>\n",
              "    </tr>\n",
              "    <tr>\n",
              "      <th>12524</th>\n",
              "      <td>0</td>\n",
              "      <td>argmin</td>\n",
              "      <td>368</td>\n",
              "      <td>argmin</td>\n",
              "      <td>how long     r  in mile</td>\n",
              "    </tr>\n",
              "    <tr>\n",
              "      <th>12279</th>\n",
              "      <td>0</td>\n",
              "      <td>river:t</td>\n",
              "      <td>361</td>\n",
              "      <td>river:t</td>\n",
              "      <td>what     largest citi in s</td>\n",
              "    </tr>\n",
              "    <tr>\n",
              "      <th>6967</th>\n",
              "      <td>0</td>\n",
              "      <td>or</td>\n",
              "      <td>204</td>\n",
              "      <td>or</td>\n",
              "      <td>how mani peopl live in s</td>\n",
              "    </tr>\n",
              "    <tr>\n",
              "      <th>1866</th>\n",
              "      <td>0</td>\n",
              "      <td>town:t</td>\n",
              "      <td>54</td>\n",
              "      <td>town:t</td>\n",
              "      <td>how big   s</td>\n",
              "    </tr>\n",
              "  </tbody>\n",
              "</table>\n",
              "<p>5162 rows × 5 columns</p>\n",
              "</div>\n",
              "      <button class=\"colab-df-convert\" onclick=\"convertToInteractive('df-26b82f3e-c72a-489b-8e13-3e34419dbda7')\"\n",
              "              title=\"Convert this dataframe to an interactive table.\"\n",
              "              style=\"display:none;\">\n",
              "        \n",
              "  <svg xmlns=\"http://www.w3.org/2000/svg\" height=\"24px\"viewBox=\"0 0 24 24\"\n",
              "       width=\"24px\">\n",
              "    <path d=\"M0 0h24v24H0V0z\" fill=\"none\"/>\n",
              "    <path d=\"M18.56 5.44l.94 2.06.94-2.06 2.06-.94-2.06-.94-.94-2.06-.94 2.06-2.06.94zm-11 1L8.5 8.5l.94-2.06 2.06-.94-2.06-.94L8.5 2.5l-.94 2.06-2.06.94zm10 10l.94 2.06.94-2.06 2.06-.94-2.06-.94-.94-2.06-.94 2.06-2.06.94z\"/><path d=\"M17.41 7.96l-1.37-1.37c-.4-.4-.92-.59-1.43-.59-.52 0-1.04.2-1.43.59L10.3 9.45l-7.72 7.72c-.78.78-.78 2.05 0 2.83L4 21.41c.39.39.9.59 1.41.59.51 0 1.02-.2 1.41-.59l7.78-7.78 2.81-2.81c.8-.78.8-2.07 0-2.86zM5.41 20L4 18.59l7.72-7.72 1.47 1.35L5.41 20z\"/>\n",
              "  </svg>\n",
              "      </button>\n",
              "      \n",
              "  <style>\n",
              "    .colab-df-container {\n",
              "      display:flex;\n",
              "      flex-wrap:wrap;\n",
              "      gap: 12px;\n",
              "    }\n",
              "\n",
              "    .colab-df-convert {\n",
              "      background-color: #E8F0FE;\n",
              "      border: none;\n",
              "      border-radius: 50%;\n",
              "      cursor: pointer;\n",
              "      display: none;\n",
              "      fill: #1967D2;\n",
              "      height: 32px;\n",
              "      padding: 0 0 0 0;\n",
              "      width: 32px;\n",
              "    }\n",
              "\n",
              "    .colab-df-convert:hover {\n",
              "      background-color: #E2EBFA;\n",
              "      box-shadow: 0px 1px 2px rgba(60, 64, 67, 0.3), 0px 1px 3px 1px rgba(60, 64, 67, 0.15);\n",
              "      fill: #174EA6;\n",
              "    }\n",
              "\n",
              "    [theme=dark] .colab-df-convert {\n",
              "      background-color: #3B4455;\n",
              "      fill: #D2E3FC;\n",
              "    }\n",
              "\n",
              "    [theme=dark] .colab-df-convert:hover {\n",
              "      background-color: #434B5C;\n",
              "      box-shadow: 0px 1px 3px 1px rgba(0, 0, 0, 0.15);\n",
              "      filter: drop-shadow(0px 1px 2px rgba(0, 0, 0, 0.3));\n",
              "      fill: #FFFFFF;\n",
              "    }\n",
              "  </style>\n",
              "\n",
              "      <script>\n",
              "        const buttonEl =\n",
              "          document.querySelector('#df-26b82f3e-c72a-489b-8e13-3e34419dbda7 button.colab-df-convert');\n",
              "        buttonEl.style.display =\n",
              "          google.colab.kernel.accessAllowed ? 'block' : 'none';\n",
              "\n",
              "        async function convertToInteractive(key) {\n",
              "          const element = document.querySelector('#df-26b82f3e-c72a-489b-8e13-3e34419dbda7');\n",
              "          const dataTable =\n",
              "            await google.colab.kernel.invokeFunction('convertToInteractive',\n",
              "                                                     [key], {});\n",
              "          if (!dataTable) return;\n",
              "\n",
              "          const docLinkHtml = 'Like what you see? Visit the ' +\n",
              "            '<a target=\"_blank\" href=https://colab.research.google.com/notebooks/data_table.ipynb>data table notebook</a>'\n",
              "            + ' to learn more about interactive tables.';\n",
              "          element.innerHTML = '';\n",
              "          dataTable['output_type'] = 'display_data';\n",
              "          await google.colab.output.renderOutput(dataTable, element);\n",
              "          const docLink = document.createElement('div');\n",
              "          docLink.innerHTML = docLinkHtml;\n",
              "          element.appendChild(docLink);\n",
              "        }\n",
              "      </script>\n",
              "    </div>\n",
              "  </div>\n",
              "  "
            ],
            "text/plain": [
              "       label    #1 ID  #2 ID sentence1                        sentence2\n",
              "1          1    loc:t      0     loc:t                        where   c\n",
              "3          1   lambda      0    lambda                        where   c\n",
              "35         1    loc:t      1     loc:t                        where   m\n",
              "37         1   lambda      1    lambda                        where   m\n",
              "69         1    loc:t      2     loc:t                        where   c\n",
              "...      ...      ...    ...       ...                              ...\n",
              "14811      0      the    435            how high     highest point in s\n",
              "12524      0   argmin    368    argmin          how long     r  in mile\n",
              "12279      0  river:t    361   river:t       what     largest citi in s\n",
              "6967       0       or    204        or         how mani peopl live in s\n",
              "1866       0   town:t     54    town:t                      how big   s\n",
              "\n",
              "[5162 rows x 5 columns]"
            ]
          },
          "metadata": {},
          "execution_count": 108
        }
      ]
    },
    {
      "cell_type": "markdown",
      "source": [
        "## 3. Build model and train it (Editable)\n",
        "\n",
        "- Build model by your self (using sklearn library or external library is accepted). \n",
        "- Training and optimize your model to get best performance on development set.\n",
        "- Finally, save your model prediction in variable **pred** (list of int value 0 or 1) for evaluation in next step."
      ],
      "metadata": {
        "id": "VKlRiQq2Y_0X"
      }
    },
    {
      "cell_type": "code",
      "execution_count": null,
      "metadata": {
        "id": "hlCstuVU_Pgd"
      },
      "outputs": [],
      "source": [
        "## ++++++++++++++++++++++++++++++++++++++++++++++++++++++++++++++++++++++++++++++++++++++++++++++ ###\n",
        "## PUSH YOUR CODE HERE  (REQUIRED)                                                                ###\n",
        "## *Note: bellow code flow is an example, you can delete all and write anything you want in here. ###\n",
        "## ++++++++++++++++++++++++++++++++++++++++++++++++++++++++++++++++++++++++++++++++++++++++++++++ ###    \n",
        " \n",
        "#  build model\n",
        "from sklearn.ensemble import RandomForestClassifier\n",
        "from sklearn.model_selection import cross_val_score\n",
        "from sklearn.ensemble import GradientBoostingClassifier\n",
        "from sklearn.model_selection import GridSearchCV\n",
        "\n",
        "\n",
        "params = {'criterion':['gini', 'entropy'],'n_estimators':[100]}\n",
        "rfc = RandomForestClassifier()\n",
        "grid = GridSearchCV(rfc, params, cv = 10, scoring=\"f1\")\n",
        "grid.fit(train_data_vector, new_train['label'])\n",
        "\n",
        "\n",
        "# Predict the label of development data.\n",
        "pred = grid.predict(dev_data_vector.toarray())\n"
      ]
    },
    {
      "cell_type": "markdown",
      "source": [
        "# Evaluate the score by cross-validation\n",
        "\n",
        "\n",
        "\n"
      ],
      "metadata": {
        "id": "AZJA9Y1h41Xh"
      }
    },
    {
      "cell_type": "code",
      "source": [
        "cv_scores = cross_val_score(grid,train_data_vector,new_train['label'],cv=10)\n",
        "print('Cross validation score : ',cv_scores)"
      ],
      "metadata": {
        "colab": {
          "base_uri": "https://localhost:8080/"
        },
        "id": "Qa7pOLRr495J",
        "outputId": "67c76829-ffd2-4bc4-9e08-5396fc9cb983"
      },
      "execution_count": null,
      "outputs": [
        {
          "output_type": "stream",
          "name": "stdout",
          "text": [
            "Cross validation score :  [0.79657388 0.86614173 0.86815416 0.9034749  0.90909091 0.84381339\n",
            " 0.83991684 0.76623377 0.7887931  0.68505747]\n"
          ]
        }
      ]
    },
    {
      "cell_type": "code",
      "source": [
        "pred[:10] # show first 10 values of the prediction "
      ],
      "metadata": {
        "id": "1UhfOZA8bBpp",
        "colab": {
          "base_uri": "https://localhost:8080/"
        },
        "outputId": "c98fb605-53bb-44f7-cadf-fef6084e876c"
      },
      "execution_count": null,
      "outputs": [
        {
          "output_type": "execute_result",
          "data": {
            "text/plain": [
              "array([0, 1, 0, 1, 0, 0, 0, 0, 0, 0])"
            ]
          },
          "metadata": {},
          "execution_count": 111
        }
      ]
    },
    {
      "cell_type": "markdown",
      "source": [
        "## 4. Evaluate your model prediction (**Uneditable**)\n",
        "\n",
        "- Build model by your-self (using sklearn library or external library is accepted). \n",
        "- Training and optimize your model to get best performance on development set.\n",
        "- Note: **Undeditable** mean that edit this block code is not accepted. "
      ],
      "metadata": {
        "id": "9dV30-D5aJ65"
      }
    },
    {
      "cell_type": "code",
      "execution_count": null,
      "metadata": {
        "id": "anMWyfT2_Pgd",
        "colab": {
          "base_uri": "https://localhost:8080/"
        },
        "outputId": "0676d740-db4c-4880-a0dc-08794c50d0b2"
      },
      "outputs": [
        {
          "output_type": "stream",
          "name": "stdout",
          "text": [
            "              precision    recall  f1-score   support\n",
            "\n",
            "           0       0.99      0.95      0.97      3097\n",
            "           1       0.61      0.89      0.73       303\n",
            "\n",
            "    accuracy                           0.94      3400\n",
            "   macro avg       0.80      0.92      0.85      3400\n",
            "weighted avg       0.96      0.94      0.95      3400\n",
            "\n"
          ]
        },
        {
          "output_type": "execute_result",
          "data": {
            "text/plain": [
              "(0.6141552511415526, 0.8877887788778878, 0.7260458839406209)"
            ]
          },
          "metadata": {},
          "execution_count": 112
        }
      ],
      "source": [
        "from sklearn.metrics import *\n",
        "print(classification_report(dev['label'], pred))\n",
        "precision_score(dev['label'], pred), recall_score(dev['label'], pred), f1_score(dev['label'], pred, pos_label=1)"
      ]
    }
  ],
  "metadata": {
    "interpreter": {
      "hash": "532e403fbd05bcd0f1d2758c7bc0ed12422dace42172466a27729aac675dbf06"
    },
    "kernelspec": {
      "display_name": "Python 3.8.5 64-bit ('py38-p': conda)",
      "language": "python",
      "name": "python3"
    },
    "language_info": {
      "codemirror_mode": {
        "name": "ipython",
        "version": 3
      },
      "file_extension": ".py",
      "mimetype": "text/x-python",
      "name": "python",
      "nbconvert_exporter": "python",
      "pygments_lexer": "ipython3",
      "version": "3.8.5"
    },
    "orig_nbformat": 4,
    "colab": {
      "name": "ML_miniproj_text_classification.ipynb",
      "provenance": [],
      "collapsed_sections": []
    }
  },
  "nbformat": 4,
  "nbformat_minor": 0
}